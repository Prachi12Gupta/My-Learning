{
 "cells": [
  {
   "cell_type": "code",
   "execution_count": 6,
   "id": "48d15f8b",
   "metadata": {},
   "outputs": [],
   "source": [
    "def ReplaceContent(file):\n",
    "    f = open(file, \"r+\")\n",
    "    x=f.read()\n",
    "    s=x.replace(\"placement\", \"screening\")\n",
    "    f.seek(0)\n",
    "    f.write(s)\n",
    "    f.close()\n",
    "    return f\n"
   ]
  },
  {
   "cell_type": "code",
   "execution_count": 7,
   "id": "921bcde8",
   "metadata": {},
   "outputs": [
    {
     "data": {
      "text/plain": [
       "<_io.TextIOWrapper name='example.txt' mode='r+' encoding='cp1252'>"
      ]
     },
     "execution_count": 7,
     "metadata": {},
     "output_type": "execute_result"
    }
   ],
   "source": [
    "ReplaceContent(\"example.txt\")#Replaced file content \"This is a screening assignment \""
   ]
  },
  {
   "cell_type": "code",
   "execution_count": null,
   "id": "c7b67016",
   "metadata": {},
   "outputs": [],
   "source": []
  }
 ],
 "metadata": {
  "kernelspec": {
   "display_name": "Python 3",
   "language": "python",
   "name": "python3"
  },
  "language_info": {
   "codemirror_mode": {
    "name": "ipython",
    "version": 3
   },
   "file_extension": ".py",
   "mimetype": "text/x-python",
   "name": "python",
   "nbconvert_exporter": "python",
   "pygments_lexer": "ipython3",
   "version": "3.8.8"
  }
 },
 "nbformat": 4,
 "nbformat_minor": 5
}
