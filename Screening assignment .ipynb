{
 "cells": [
  {
   "cell_type": "markdown",
   "id": "effd7ff3",
   "metadata": {},
   "source": [
    "# function in python to read the text file and replace specific content\n"
   ]
  },
  {
   "cell_type": "code",
   "execution_count": 60,
   "id": "31c6b64e",
   "metadata": {},
   "outputs": [],
   "source": [
    "def ReplaceContent(file,to_be_replace,replaced_by):\n",
    "    f = open(file, \"r+\")\n",
    "    file_data=f.read()\n",
    "    replaced_string=file_data.replace(to_be_replace,replaced_by)\n",
    "    f.seek(0) #sets the reference point at the beginning of the file \n",
    "    f.write(replaced_string)\n",
    "    f.close()\n",
    "    return f\n"
   ]
  },
  {
   "cell_type": "code",
   "execution_count": 61,
   "id": "c3385517",
   "metadata": {},
   "outputs": [
    {
     "data": {
      "text/plain": [
       "<_io.TextIOWrapper name='example.txt' mode='r+' encoding='cp1252'>"
      ]
     },
     "execution_count": 61,
     "metadata": {},
     "output_type": "execute_result"
    }
   ],
   "source": [
    "ReplaceContent(\"example.txt\",\"placement\",\"screening\")#Replaced file content \"This is a screening assignment \""
   ]
  },
  {
   "cell_type": "markdown",
   "id": "6e69fe46",
   "metadata": {},
   "source": [
    "# Demonstrate use of abstract class, multiple inheritance and decorator in python using examples."
   ]
  },
  {
   "cell_type": "markdown",
   "id": "fb5bb089",
   "metadata": {},
   "source": [
    "### Abstract Class-A class is called an Abstract class if it contains one or more abstract methods. An abstract method is a method that is declared, but contains no implementation. Abstract classes may not be instantiated, and its abstract methods must be implemented by its subclasses."
   ]
  },
  {
   "cell_type": "markdown",
   "id": "54abfb0c",
   "metadata": {},
   "source": [
    "## Use of Abstract class-\n",
    "\n",
    "### In the example we have been using in this post, Moniter purpose was to be used as a blueprint for creating other classes for specific kinds of Moniter.\n",
    "\n",
    "### Avoid code duplication.\n",
    "### Ensure consistency in how others implement the subclasses.\n",
    "### Ensure no one forgets to implement critical methods and properties in subclasses.\n"
   ]
  },
  {
   "cell_type": "code",
   "execution_count": 49,
   "id": "555ab99a",
   "metadata": {},
   "outputs": [
    {
     "name": "stdout",
     "output_type": "stream",
     "text": [
      "Liquid Crystal Display\n",
      "Liquid Emitting Diode\n",
      "Cathode Ray tube\n",
      "Organic Light Emitting Diode\n"
     ]
    }
   ],
   "source": [
    "# Python program showing\n",
    "# abstract base class work\n",
    " \n",
    "from abc import ABC, abstractmethod\n",
    " \n",
    "class Moniter(ABC):#abstract class\n",
    " \n",
    "    @abstractmethod\n",
    "    def TypeOfMoniter(self):#Moniter can be differnt type\n",
    "        pass\n",
    " \n",
    "class LCD(Moniter):#LCD Moniter\n",
    " \n",
    "    # overriding abstract method\n",
    "    def TypeOfMoniter(self):\n",
    "        print(\"Liquid Crystal Display\")\n",
    " \n",
    "class LED(Moniter):#LED Moniter\n",
    " \n",
    "    # overriding abstract method\n",
    "    def TypeOfMoniter(self):\n",
    "        print(\"Liquid Emitting Diode\")\n",
    " \n",
    "class CRT(Moniter):#CRT moniter\n",
    " \n",
    "    # overriding abstract method\n",
    "    def TypeOfMoniter(self):\n",
    "        print(\"Cathode Ray tube\")\n",
    "        \n",
    "class OLED(Moniter):#OLED moniter\n",
    " \n",
    "    # overriding abstract method\n",
    "    def TypeOfMoniter(self):\n",
    "        print(\"Organic Light Emitting Diode\")\n",
    " \n",
    "# Driver code\n",
    "R = LCD()#R is Object of class LCD\n",
    "R.TypeOfMoniter()\n",
    "\n",
    "A=LED()#A is object of class LED\n",
    "A.TypeOfMoniter()\n",
    "\n",
    "B=CRT()#B is Object of class CRT\n",
    "B.TypeOfMoniter()\n",
    "\n",
    "C=OLED()#C is Object of class OLED\n",
    "C.TypeOfMoniter()\n"
   ]
  },
  {
   "cell_type": "markdown",
   "id": "cff9aee2",
   "metadata": {},
   "source": [
    "# Multiple in heritance in python\n",
    "\n",
    "### When a class is derived from more than one base class it is called multiple Inheritance. The derived class inherits all the features of the base case."
   ]
  },
  {
   "cell_type": "code",
   "execution_count": 2,
   "id": "6b7ad839",
   "metadata": {},
   "outputs": [
    {
     "name": "stdout",
     "output_type": "stream",
     "text": [
      "In Class4\n",
      "In Class2\n",
      "In Class3\n",
      "In Class1\n",
      "I am method1 of class 3\n"
     ]
    }
   ],
   "source": [
    "\n",
    "class Class1:\n",
    "    def meathod(self):\n",
    "        print(\"In Class1\") \n",
    "      \n",
    "class Class2(Class1):\n",
    "    def meathod(self):\n",
    "        print(\"In Class2\")\n",
    " \n",
    "class Class3(Class1):\n",
    "    def meathod(self):\n",
    "        print(\"In Class3\")    \n",
    "        \n",
    "    def meathod1(self):\n",
    "        print(\"I am method1 of class 3\")\n",
    "        \n",
    "     \n",
    "class Class4(Class2, Class3):\n",
    "    def meathod(self):\n",
    "        print(\"In Class4\")  \n",
    "        Class2.meathod(self)#it calls class 2 method\n",
    "        Class3.meathod(self)#it calls classs 3 meathod\n",
    "        Class1.meathod(self)#\n",
    " \n",
    "obj = Class4()\n",
    "obj.meathod()#it will call method of class D ,then class2 ,then class3 then class1\n",
    "obj.meathod1()# through object of class D we can acess meathod1 of class 3"
   ]
  },
  {
   "cell_type": "markdown",
   "id": "60739fcd",
   "metadata": {},
   "source": [
    "## Decorators in Python"
   ]
  },
  {
   "cell_type": "markdown",
   "id": "0c3b10fc",
   "metadata": {},
   "source": [
    "### In Decorators, functions are passed as an argument into another function and then called inside the wrapper function\n",
    "\n",
    "### It is also called meta programming where a part of the program attempts to change another part of program at compile time.\n",
    "\n",
    "### decorator funtion can reuse everwhere in Program"
   ]
  },
  {
   "cell_type": "code",
   "execution_count": 35,
   "id": "4f690b06",
   "metadata": {},
   "outputs": [],
   "source": [
    "def main_function(func):\n",
    "    print(\"I am main funtion\")\n",
    "    def sub_funtion():\n",
    "        print(\"I am sub fuction\")\n",
    "        func()\n",
    "    return sub_funtion()    \n",
    "    "
   ]
  },
  {
   "cell_type": "code",
   "execution_count": 45,
   "id": "dd86761e",
   "metadata": {},
   "outputs": [
    {
     "name": "stdout",
     "output_type": "stream",
     "text": [
      "I am main funtion\n",
      "I sm sub fuction\n",
      "I am decorator function\n"
     ]
    }
   ],
   "source": [
    "#to avoid write this code... \"main_function(decorator_funtion)\"... we can also done initialization by below code\n",
    "\n",
    "@main_function\n",
    "def decorator_funtion():\n",
    "    print(\"I am decorator function\")"
   ]
  },
  {
   "cell_type": "code",
   "execution_count": 50,
   "id": "88b87220",
   "metadata": {},
   "outputs": [],
   "source": [
    "def simple_decorator():\n",
    "    print(\"i am simple decorator fuction\")"
   ]
  },
  {
   "cell_type": "code",
   "execution_count": 52,
   "id": "754332a8",
   "metadata": {},
   "outputs": [
    {
     "name": "stdout",
     "output_type": "stream",
     "text": [
      "I am main funtion\n",
      "I sm sub fuction\n",
      "i am simple decorator fuction\n"
     ]
    }
   ],
   "source": [
    "main_function(simple_decorator)#  This is just like a decorator here decorator fuction passing as an argument in main funtion and calling  in sub_funtion"
   ]
  },
  {
   "cell_type": "code",
   "execution_count": null,
   "id": "4831fbff",
   "metadata": {},
   "outputs": [],
   "source": [
    "\n",
    "\n"
   ]
  }
 ],
 "metadata": {
  "kernelspec": {
   "display_name": "Python 3",
   "language": "python",
   "name": "python3"
  },
  "language_info": {
   "codemirror_mode": {
    "name": "ipython",
    "version": 3
   },
   "file_extension": ".py",
   "mimetype": "text/x-python",
   "name": "python",
   "nbconvert_exporter": "python",
   "pygments_lexer": "ipython3",
   "version": "3.8.8"
  }
 },
 "nbformat": 4,
 "nbformat_minor": 5
}
